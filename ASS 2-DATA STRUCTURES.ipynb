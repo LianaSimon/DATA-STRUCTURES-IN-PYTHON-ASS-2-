{
 "cells": [
  {
   "cell_type": "markdown",
   "id": "b779e1fd-a6e1-40d9-a03a-1f65de5e4b7f",
   "metadata": {},
   "source": [
    "# ASSIGNMENT 2- DATA STRUCTURES IN PYTHON\n",
    "\n",
    "### Topic :List\n",
    "\n",
    "### Exercise\n",
    "#### Q1. Create a list of 5 random numbers and print the list.\n"
   ]
  },
  {
   "cell_type": "code",
   "execution_count": 23,
   "id": "56b042f6-633b-414e-8815-04abe4e7862b",
   "metadata": {},
   "outputs": [
    {
     "name": "stdout",
     "output_type": "stream",
     "text": [
      "List of five random numbers= [46, 19, 1, 37, 61]\n"
     ]
    }
   ],
   "source": [
    "import random\n",
    "new_list=[random.randint(1,100) for _ in range(5)]\n",
    "print(\"List of five random numbers=\",new_list)"
   ]
  },
  {
   "cell_type": "markdown",
   "id": "76667adc-ca7e-429e-9246-f9d94d383e15",
   "metadata": {},
   "source": [
    "#### Q2. Insert 3 new values to the list and print the updated list.\n"
   ]
  },
  {
   "cell_type": "code",
   "execution_count": 28,
   "id": "14f4d5b5-ac64-4049-839c-bcbdd6c5614e",
   "metadata": {},
   "outputs": [
    {
     "name": "stdout",
     "output_type": "stream",
     "text": [
      "List of five random numbers= [39, 4, 31, 35, 70]\n",
      "The updated list is [39, 4, 31, 35, 70, 201, 301, 401]\n"
     ]
    }
   ],
   "source": [
    "import random\n",
    "new_list=[random.randint(1,100) for _ in range(5)]\n",
    "print(\"List of five random numbers=\",new_list)\n",
    "new_list.extend([201,301,401])  # Append 3 values\n",
    "print(\"The updated list is\",new_list)"
   ]
  },
  {
   "cell_type": "markdown",
   "id": "7dd14008-3cda-450c-b7d5-d60367cc4fc4",
   "metadata": {},
   "source": [
    "#### Q3. Try to use a for loop to print each element in the list."
   ]
  },
  {
   "cell_type": "code",
   "execution_count": 33,
   "id": "50ab1d69-cefd-4541-8f76-00a4a6c9653e",
   "metadata": {},
   "outputs": [
    {
     "name": "stdout",
     "output_type": "stream",
     "text": [
      "The elements in the list are:\n",
      "39\n",
      "4\n",
      "31\n",
      "35\n",
      "70\n",
      "201\n",
      "301\n",
      "401\n"
     ]
    }
   ],
   "source": [
    "print(\"The elements in the list are:\")\n",
    "for element in new_list:\n",
    "    print(element)"
   ]
  },
  {
   "cell_type": "markdown",
   "id": "53fa16d5-d1de-45d9-8d44-9d4eb5cb58a6",
   "metadata": {},
   "source": [
    "## Topic: Dictionary\n",
    "\n",
    "### Exercise \n",
    "\n",
    "#### Q1. Create a dictionary with keys 'name', 'age', and 'address' and values 'John', 25, and 'New York' respectively.\n"
   ]
  },
  {
   "cell_type": "code",
   "execution_count": 36,
   "id": "16d7bf0b-dc35-4cf8-804b-c0d0ba70f197",
   "metadata": {},
   "outputs": [
    {
     "name": "stdout",
     "output_type": "stream",
     "text": [
      "The dictionary is {'Name': 'John', 'Age': 25, 'Address': 'New York'}\n"
     ]
    }
   ],
   "source": [
    "dict={'Name':'John','Age':25,'Address':'New York'}\n",
    "\n",
    "print(\"The dictionary is\",dict)"
   ]
  },
  {
   "cell_type": "markdown",
   "id": "74816182-63f6-419e-9209-7a5b44d4a007",
   "metadata": {},
   "source": [
    "#### Q2. Add a new key-value pair to the dictionary created in Q1 with key 'phone' and value '1234567890'.\n"
   ]
  },
  {
   "cell_type": "code",
   "execution_count": 45,
   "id": "bcd4c4dd-25a9-467e-9393-03a18a39c748",
   "metadata": {},
   "outputs": [
    {
     "name": "stdout",
     "output_type": "stream",
     "text": [
      "The new dictionary is \n",
      " {'Name': 'John', 'Age': 25, 'Address': 'New York', 'phone': 1234567890, 'Phone': 1234567890}\n"
     ]
    }
   ],
   "source": [
    "dict['Phone']=1234567890\n",
    "print(\"The new dictionary is \\n\",dict)"
   ]
  },
  {
   "cell_type": "markdown",
   "id": "8956d15d-fd20-41e2-8941-dcef8d102af1",
   "metadata": {},
   "source": [
    "## Topic: Set\n",
    "\n",
    "### Exercise  \n",
    "\n",
    "#### Q1.Create a set with values 1, 2, 3, 4, and 5.\n"
   ]
  },
  {
   "cell_type": "code",
   "execution_count": 48,
   "id": "08afb375-ac49-414d-92f6-df6693068209",
   "metadata": {},
   "outputs": [
    {
     "name": "stdout",
     "output_type": "stream",
     "text": [
      "The set values are: {1, 2, 3, 4, 5}\n"
     ]
    }
   ],
   "source": [
    "my_set={1,2,3,4,5}\n",
    "print(\"The set values are:\",my_set)"
   ]
  },
  {
   "cell_type": "markdown",
   "id": "e61459be-58b0-4e4a-b992-56a5834de40d",
   "metadata": {},
   "source": [
    "#### Q2. Add the value 6 to the set created in Q1."
   ]
  },
  {
   "cell_type": "code",
   "execution_count": 53,
   "id": "d7010734-f98e-4c03-b169-78f007978d9b",
   "metadata": {},
   "outputs": [
    {
     "name": "stdout",
     "output_type": "stream",
     "text": [
      "The updated set is: {1, 2, 3, 4, 5, 6}\n"
     ]
    }
   ],
   "source": [
    "my_set.add(6)\n",
    "\n",
    "print(\"The updated set is:\",my_set)"
   ]
  },
  {
   "cell_type": "markdown",
   "id": "55b474cb-678c-43a0-984a-5e5e46cf57ed",
   "metadata": {},
   "source": [
    "#### Q3. Remove the value 3 from the set created in Q1.\n"
   ]
  },
  {
   "cell_type": "code",
   "execution_count": 58,
   "id": "3ea90f07-a632-4d61-a699-cb42703a2444",
   "metadata": {},
   "outputs": [
    {
     "name": "stdout",
     "output_type": "stream",
     "text": [
      "The new list after removing 3 is:  {1, 2, 4, 5, 6}\n"
     ]
    }
   ],
   "source": [
    "my_set.discard(3)\n",
    "print(\"The new list after removing 3 is: \",my_set)"
   ]
  },
  {
   "cell_type": "markdown",
   "id": "0281bfe5-8a16-4ca2-a639-106e2b11c8db",
   "metadata": {},
   "source": [
    "## Topic:Tuple\n",
    "\n",
    "### Exercise \n",
    "\n",
    "#### Q1. Create a tuple with values 1, 2, 3, and 4\n"
   ]
  },
  {
   "cell_type": "code",
   "execution_count": 63,
   "id": "f65fa4ff-ad0f-4889-a66b-a929622f90e0",
   "metadata": {},
   "outputs": [
    {
     "name": "stdout",
     "output_type": "stream",
     "text": [
      "The tuple is:  (1, 2, 3, 4)\n"
     ]
    },
    {
     "data": {
      "text/plain": [
       "tuple"
      ]
     },
     "execution_count": 63,
     "metadata": {},
     "output_type": "execute_result"
    }
   ],
   "source": [
    "the_tuple=(1,2,3,4)\n",
    "print(\"The tuple is: \",the_tuple)\n",
    "type(the_tuple)"
   ]
  },
  {
   "cell_type": "markdown",
   "id": "4a0d261c-4560-45c5-9a71-b3e5b016d482",
   "metadata": {},
   "source": [
    "#### Q2. Print the length of the tuple created in Q1."
   ]
  },
  {
   "cell_type": "code",
   "execution_count": 72,
   "id": "67d9d36f-4e18-4453-a2b8-363de2ef8d6f",
   "metadata": {},
   "outputs": [
    {
     "name": "stdout",
     "output_type": "stream",
     "text": [
      "The length of the tuple is : 4\n"
     ]
    }
   ],
   "source": [
    "print(\"The length of the tuple is :\",len(the_tuple))"
   ]
  },
  {
   "cell_type": "code",
   "execution_count": null,
   "id": "4fe69d8d-c76b-4a7c-9ce3-3e8b436c82e1",
   "metadata": {},
   "outputs": [],
   "source": []
  }
 ],
 "metadata": {
  "kernelspec": {
   "display_name": "Python [conda env:base] *",
   "language": "python",
   "name": "conda-base-py"
  },
  "language_info": {
   "codemirror_mode": {
    "name": "ipython",
    "version": 3
   },
   "file_extension": ".py",
   "mimetype": "text/x-python",
   "name": "python",
   "nbconvert_exporter": "python",
   "pygments_lexer": "ipython3",
   "version": "3.12.7"
  }
 },
 "nbformat": 4,
 "nbformat_minor": 5
}
